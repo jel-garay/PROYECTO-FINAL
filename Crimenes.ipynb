{
 "cells": [
  {
   "cell_type": "code",
   "execution_count": 1,
   "id": "43543d6c",
   "metadata": {},
   "outputs": [],
   "source": [
    "import pandas as pd"
   ]
  },
  {
   "cell_type": "code",
   "execution_count": 2,
   "id": "4a1e91bd",
   "metadata": {},
   "outputs": [],
   "source": [
    "crimenes=pd.read_csv(r\"crimeneseeuu.csv\")"
   ]
  },
  {
   "cell_type": "code",
   "execution_count": 3,
   "id": "a0d86598",
   "metadata": {},
   "outputs": [
    {
     "data": {
      "text/html": [
       "<div>\n",
       "<style scoped>\n",
       "    .dataframe tbody tr th:only-of-type {\n",
       "        vertical-align: middle;\n",
       "    }\n",
       "\n",
       "    .dataframe tbody tr th {\n",
       "        vertical-align: top;\n",
       "    }\n",
       "\n",
       "    .dataframe thead th {\n",
       "        text-align: right;\n",
       "    }\n",
       "</style>\n",
       "<table border=\"1\" class=\"dataframe\">\n",
       "  <thead>\n",
       "    <tr style=\"text-align: right;\">\n",
       "      <th></th>\n",
       "      <th>Unnamed: 0</th>\n",
       "      <th>year</th>\n",
       "      <th>state_abbr</th>\n",
       "      <th>state_name</th>\n",
       "      <th>population</th>\n",
       "      <th>violent_crime</th>\n",
       "      <th>homicide</th>\n",
       "      <th>rape_legacy</th>\n",
       "      <th>robbery</th>\n",
       "      <th>aggravated_assault</th>\n",
       "      <th>property_crime</th>\n",
       "      <th>burglary</th>\n",
       "      <th>larceny</th>\n",
       "      <th>motor_vehicle_theft</th>\n",
       "    </tr>\n",
       "  </thead>\n",
       "  <tbody>\n",
       "    <tr>\n",
       "      <th>0</th>\n",
       "      <td>0</td>\n",
       "      <td>1979</td>\n",
       "      <td>NaN</td>\n",
       "      <td>NaN</td>\n",
       "      <td>220099000</td>\n",
       "      <td>1208030</td>\n",
       "      <td>21460</td>\n",
       "      <td>76390.0</td>\n",
       "      <td>480700</td>\n",
       "      <td>629480</td>\n",
       "      <td>11041500</td>\n",
       "      <td>3327700</td>\n",
       "      <td>6601000</td>\n",
       "      <td>1112800</td>\n",
       "    </tr>\n",
       "    <tr>\n",
       "      <th>1</th>\n",
       "      <td>1</td>\n",
       "      <td>1979</td>\n",
       "      <td>AK</td>\n",
       "      <td>Alaska</td>\n",
       "      <td>406000</td>\n",
       "      <td>1994</td>\n",
       "      <td>54</td>\n",
       "      <td>292.0</td>\n",
       "      <td>445</td>\n",
       "      <td>1203</td>\n",
       "      <td>23193</td>\n",
       "      <td>5616</td>\n",
       "      <td>15076</td>\n",
       "      <td>2501</td>\n",
       "    </tr>\n",
       "    <tr>\n",
       "      <th>2</th>\n",
       "      <td>2</td>\n",
       "      <td>1979</td>\n",
       "      <td>AL</td>\n",
       "      <td>Alabama</td>\n",
       "      <td>3769000</td>\n",
       "      <td>15578</td>\n",
       "      <td>496</td>\n",
       "      <td>1037.0</td>\n",
       "      <td>4127</td>\n",
       "      <td>9918</td>\n",
       "      <td>144372</td>\n",
       "      <td>48517</td>\n",
       "      <td>83791</td>\n",
       "      <td>12064</td>\n",
       "    </tr>\n",
       "    <tr>\n",
       "      <th>3</th>\n",
       "      <td>3</td>\n",
       "      <td>1979</td>\n",
       "      <td>AR</td>\n",
       "      <td>Arkansas</td>\n",
       "      <td>2180000</td>\n",
       "      <td>7984</td>\n",
       "      <td>198</td>\n",
       "      <td>595.0</td>\n",
       "      <td>1626</td>\n",
       "      <td>5565</td>\n",
       "      <td>70949</td>\n",
       "      <td>21457</td>\n",
       "      <td>45267</td>\n",
       "      <td>4225</td>\n",
       "    </tr>\n",
       "    <tr>\n",
       "      <th>4</th>\n",
       "      <td>4</td>\n",
       "      <td>1979</td>\n",
       "      <td>AZ</td>\n",
       "      <td>Arizona</td>\n",
       "      <td>2450000</td>\n",
       "      <td>14528</td>\n",
       "      <td>219</td>\n",
       "      <td>1120.0</td>\n",
       "      <td>4305</td>\n",
       "      <td>8884</td>\n",
       "      <td>177977</td>\n",
       "      <td>48916</td>\n",
       "      <td>116976</td>\n",
       "      <td>12085</td>\n",
       "    </tr>\n",
       "  </tbody>\n",
       "</table>\n",
       "</div>"
      ],
      "text/plain": [
       "   Unnamed: 0  year state_abbr state_name  population  violent_crime  \\\n",
       "0           0  1979        NaN        NaN   220099000        1208030   \n",
       "1           1  1979         AK     Alaska      406000           1994   \n",
       "2           2  1979         AL    Alabama     3769000          15578   \n",
       "3           3  1979         AR   Arkansas     2180000           7984   \n",
       "4           4  1979         AZ    Arizona     2450000          14528   \n",
       "\n",
       "   homicide  rape_legacy  robbery  aggravated_assault  property_crime  \\\n",
       "0     21460      76390.0   480700              629480        11041500   \n",
       "1        54        292.0      445                1203           23193   \n",
       "2       496       1037.0     4127                9918          144372   \n",
       "3       198        595.0     1626                5565           70949   \n",
       "4       219       1120.0     4305                8884          177977   \n",
       "\n",
       "   burglary  larceny  motor_vehicle_theft  \n",
       "0   3327700  6601000              1112800  \n",
       "1      5616    15076                 2501  \n",
       "2     48517    83791                12064  \n",
       "3     21457    45267                 4225  \n",
       "4     48916   116976                12085  "
      ]
     },
     "execution_count": 3,
     "metadata": {},
     "output_type": "execute_result"
    }
   ],
   "source": [
    "crimenes.head()"
   ]
  },
  {
   "cell_type": "code",
   "execution_count": 4,
   "id": "a59b7259",
   "metadata": {},
   "outputs": [],
   "source": [
    "crimenes_por_estado_y_año = crimenes.groupby(['state_name', 'year'])['homicide'].sum()"
   ]
  },
  {
   "cell_type": "code",
   "execution_count": 5,
   "id": "2d941953",
   "metadata": {},
   "outputs": [
    {
     "data": {
      "text/plain": [
       "state_name\n",
       "Alabama                              (Alabama, 1980)\n",
       "Alaska                                (Alaska, 1982)\n",
       "Arizona                              (Arizona, 2007)\n",
       "Arkansas                            (Arkansas, 1994)\n",
       "California                        (California, 1993)\n",
       "Colorado                            (Colorado, 1981)\n",
       "Connecticut                      (Connecticut, 1994)\n",
       "Delaware                            (Delaware, 2015)\n",
       "District of Columbia    (District of Columbia, 1991)\n",
       "Florida                              (Florida, 1981)\n",
       "Georgia                              (Georgia, 1981)\n",
       "Hawaii                                (Hawaii, 1980)\n",
       "Idaho                                  (Idaho, 1979)\n",
       "Illinois                            (Illinois, 1994)\n",
       "Indiana                              (Indiana, 1980)\n",
       "Iowa                                    (Iowa, 2017)\n",
       "Kansas                                (Kansas, 1998)\n",
       "Kentucky                            (Kentucky, 1983)\n",
       "Louisiana                          (Louisiana, 1993)\n",
       "Maine                                  (Maine, 1989)\n",
       "Maryland                            (Maryland, 1993)\n",
       "Massachusetts                  (Massachusetts, 1989)\n",
       "Michigan                            (Michigan, 1987)\n",
       "Minnesota                          (Minnesota, 1995)\n",
       "Mississippi                      (Mississippi, 1997)\n",
       "Missouri                            (Missouri, 2017)\n",
       "Montana                              (Montana, 1985)\n",
       "Nebraska                            (Nebraska, 2007)\n",
       "Nevada                                (Nevada, 2017)\n",
       "New Hampshire                  (New Hampshire, 1991)\n",
       "New Jersey                        (New Jersey, 1981)\n",
       "New Mexico                        (New Mexico, 2009)\n",
       "New York                            (New York, 1990)\n",
       "North Carolina                (North Carolina, 1993)\n",
       "North Dakota                    (North Dakota, 2012)\n",
       "Ohio                                    (Ohio, 1980)\n",
       "Oklahoma                            (Oklahoma, 1995)\n",
       "Oregon                                (Oregon, 1986)\n",
       "Pennsylvania                    (Pennsylvania, 1993)\n",
       "Rhode Island                    (Rhode Island, 1989)\n",
       "South Carolina                (South Carolina, 2019)\n",
       "South Dakota                    (South Dakota, 2008)\n",
       "Tennessee                          (Tennessee, 1995)\n",
       "Texas                                  (Texas, 1991)\n",
       "Utah                                    (Utah, 1995)\n",
       "Vermont                              (Vermont, 1981)\n",
       "Virginia                            (Virginia, 1991)\n",
       "Washington                        (Washington, 1994)\n",
       "West Virginia                  (West Virginia, 1980)\n",
       "Wisconsin                          (Wisconsin, 2015)\n",
       "Wyoming                              (Wyoming, 1982)\n",
       "Name: homicide, dtype: object"
      ]
     },
     "execution_count": 5,
     "metadata": {},
     "output_type": "execute_result"
    }
   ],
   "source": [
    "año_mas_homicidios_por_estado = crimenes_por_estado_y_año.groupby('state_name').idxmax()\n",
    "año_mas_homicidios_por_estado"
   ]
  },
  {
   "cell_type": "code",
   "execution_count": 6,
   "id": "1d40567d",
   "metadata": {},
   "outputs": [],
   "source": [
    "crimenes_por_estado_y_año = crimenes.groupby(['state_name', 'year'])['homicide'].sum()"
   ]
  },
  {
   "cell_type": "code",
   "execution_count": 7,
   "id": "8cfa2708",
   "metadata": {},
   "outputs": [
    {
     "data": {
      "text/plain": [
       "state_name\n",
       "Alabama                              (Alabama, 1980)\n",
       "Alaska                                (Alaska, 1982)\n",
       "Arizona                              (Arizona, 2007)\n",
       "Arkansas                            (Arkansas, 1994)\n",
       "California                        (California, 1993)\n",
       "Colorado                            (Colorado, 1981)\n",
       "Connecticut                      (Connecticut, 1994)\n",
       "Delaware                            (Delaware, 2015)\n",
       "District of Columbia    (District of Columbia, 1991)\n",
       "Florida                              (Florida, 1981)\n",
       "Georgia                              (Georgia, 1981)\n",
       "Hawaii                                (Hawaii, 1980)\n",
       "Idaho                                  (Idaho, 1979)\n",
       "Illinois                            (Illinois, 1994)\n",
       "Indiana                              (Indiana, 1980)\n",
       "Iowa                                    (Iowa, 2017)\n",
       "Kansas                                (Kansas, 1998)\n",
       "Kentucky                            (Kentucky, 1983)\n",
       "Louisiana                          (Louisiana, 1993)\n",
       "Maine                                  (Maine, 1989)\n",
       "Maryland                            (Maryland, 1993)\n",
       "Massachusetts                  (Massachusetts, 1989)\n",
       "Michigan                            (Michigan, 1987)\n",
       "Minnesota                          (Minnesota, 1995)\n",
       "Mississippi                      (Mississippi, 1997)\n",
       "Missouri                            (Missouri, 2017)\n",
       "Montana                              (Montana, 1985)\n",
       "Nebraska                            (Nebraska, 2007)\n",
       "Nevada                                (Nevada, 2017)\n",
       "New Hampshire                  (New Hampshire, 1991)\n",
       "New Jersey                        (New Jersey, 1981)\n",
       "New Mexico                        (New Mexico, 2009)\n",
       "New York                            (New York, 1990)\n",
       "North Carolina                (North Carolina, 1993)\n",
       "North Dakota                    (North Dakota, 2012)\n",
       "Ohio                                    (Ohio, 1980)\n",
       "Oklahoma                            (Oklahoma, 1995)\n",
       "Oregon                                (Oregon, 1986)\n",
       "Pennsylvania                    (Pennsylvania, 1993)\n",
       "Rhode Island                    (Rhode Island, 1989)\n",
       "South Carolina                (South Carolina, 2019)\n",
       "South Dakota                    (South Dakota, 2008)\n",
       "Tennessee                          (Tennessee, 1995)\n",
       "Texas                                  (Texas, 1991)\n",
       "Utah                                    (Utah, 1995)\n",
       "Vermont                              (Vermont, 1981)\n",
       "Virginia                            (Virginia, 1991)\n",
       "Washington                        (Washington, 1994)\n",
       "West Virginia                  (West Virginia, 1980)\n",
       "Wisconsin                          (Wisconsin, 2015)\n",
       "Wyoming                              (Wyoming, 1982)\n",
       "Name: homicide, dtype: object"
      ]
     },
     "execution_count": 7,
     "metadata": {},
     "output_type": "execute_result"
    }
   ],
   "source": [
    "año_mas_homicidios_por_estado = crimenes_por_estado_y_año.groupby('state_name').idxmax()\n",
    "año_mas_homicidios_por_estado"
   ]
  },
  {
   "cell_type": "code",
   "execution_count": null,
   "id": "6a6f18ab",
   "metadata": {},
   "outputs": [],
   "source": []
  },
  {
   "cell_type": "code",
   "execution_count": null,
   "id": "f39c3b35",
   "metadata": {},
   "outputs": [],
   "source": []
  },
  {
   "cell_type": "code",
   "execution_count": null,
   "id": "2d66e96c",
   "metadata": {},
   "outputs": [],
   "source": []
  },
  {
   "cell_type": "code",
   "execution_count": null,
   "id": "817bc135",
   "metadata": {},
   "outputs": [],
   "source": []
  },
  {
   "cell_type": "code",
   "execution_count": null,
   "id": "d896c079",
   "metadata": {},
   "outputs": [],
   "source": []
  },
  {
   "cell_type": "code",
   "execution_count": null,
   "id": "a052151a",
   "metadata": {},
   "outputs": [],
   "source": []
  },
  {
   "cell_type": "code",
   "execution_count": null,
   "id": "68ba80be",
   "metadata": {},
   "outputs": [],
   "source": []
  },
  {
   "cell_type": "code",
   "execution_count": null,
   "id": "81a8f6d4",
   "metadata": {},
   "outputs": [],
   "source": []
  },
  {
   "cell_type": "code",
   "execution_count": null,
   "id": "8338d958",
   "metadata": {},
   "outputs": [],
   "source": []
  },
  {
   "cell_type": "code",
   "execution_count": null,
   "id": "1226ed46",
   "metadata": {},
   "outputs": [],
   "source": []
  },
  {
   "cell_type": "code",
   "execution_count": null,
   "id": "b978329f",
   "metadata": {},
   "outputs": [],
   "source": []
  },
  {
   "cell_type": "code",
   "execution_count": null,
   "id": "659f367f",
   "metadata": {},
   "outputs": [],
   "source": []
  },
  {
   "cell_type": "code",
   "execution_count": null,
   "id": "f90cfa1d",
   "metadata": {},
   "outputs": [],
   "source": []
  },
  {
   "cell_type": "code",
   "execution_count": null,
   "id": "43b9ca27",
   "metadata": {},
   "outputs": [],
   "source": []
  },
  {
   "cell_type": "code",
   "execution_count": null,
   "id": "1db4f191",
   "metadata": {},
   "outputs": [],
   "source": []
  },
  {
   "cell_type": "code",
   "execution_count": null,
   "id": "88c97482",
   "metadata": {},
   "outputs": [],
   "source": []
  },
  {
   "cell_type": "code",
   "execution_count": null,
   "id": "90ecb22f",
   "metadata": {},
   "outputs": [],
   "source": []
  },
  {
   "cell_type": "code",
   "execution_count": null,
   "id": "145cd01d",
   "metadata": {},
   "outputs": [],
   "source": []
  },
  {
   "cell_type": "code",
   "execution_count": null,
   "id": "6df0c7bd",
   "metadata": {},
   "outputs": [],
   "source": []
  },
  {
   "cell_type": "code",
   "execution_count": null,
   "id": "a5c42c11",
   "metadata": {},
   "outputs": [],
   "source": []
  },
  {
   "cell_type": "code",
   "execution_count": null,
   "id": "37360145",
   "metadata": {},
   "outputs": [],
   "source": []
  },
  {
   "cell_type": "code",
   "execution_count": null,
   "id": "05f331a2",
   "metadata": {},
   "outputs": [],
   "source": []
  },
  {
   "cell_type": "code",
   "execution_count": null,
   "id": "179bc902",
   "metadata": {},
   "outputs": [],
   "source": []
  }
 ],
 "metadata": {
  "kernelspec": {
   "display_name": "Python 3 (ipykernel)",
   "language": "python",
   "name": "python3"
  },
  "language_info": {
   "codemirror_mode": {
    "name": "ipython",
    "version": 3
   },
   "file_extension": ".py",
   "mimetype": "text/x-python",
   "name": "python",
   "nbconvert_exporter": "python",
   "pygments_lexer": "ipython3",
   "version": "3.9.13"
  }
 },
 "nbformat": 4,
 "nbformat_minor": 5
}
